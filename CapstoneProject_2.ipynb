{
    "cells": [
        {
            "cell_type": "markdown",
            "metadata": {},
            "source": "# <center> IBM Data Science Professional Certificate Capstone Project </center>"
        },
        {
            "cell_type": "markdown",
            "metadata": {},
            "source": "This notebook will be used for my Capstone Project of IBM Data Science Professional Certificate course powered by Coursera"
        },
        {
            "cell_type": "markdown",
            "metadata": {},
            "source": "## <center>The Battle of Neighborhoods</center>"
        },
        {
            "cell_type": "code",
            "execution_count": 1,
            "metadata": {},
            "outputs": [],
            "source": "#importing needed libraries\nimport pandas as pd\nimport numpy as np\n\nimport types\n\nfrom botocore.client import Config\nimport ibm_boto3"
        },
        {
            "cell_type": "code",
            "execution_count": 2,
            "metadata": {},
            "outputs": [],
            "source": "# The code was removed by Watson Studio for sharing."
        },
        {
            "cell_type": "code",
            "execution_count": 3,
            "metadata": {},
            "outputs": [
                {
                    "name": "stdout",
                    "output_type": "stream",
                    "text": "Hello Capstone Project Course!\n"
                }
            ],
            "source": "print(\"Hello Capstone Project Course!\")"
        },
        {
            "cell_type": "markdown",
            "metadata": {},
            "source": "### 4th week Final Assignment"
        },
        {
            "cell_type": "markdown",
            "metadata": {},
            "source": "# <center> Toward a better city </center>"
        },
        {
            "cell_type": "markdown",
            "metadata": {},
            "source": "## 1. Introduction - Business problem"
        },
        {
            "cell_type": "markdown",
            "metadata": {},
            "source": "### Question  \n  \n  #### Which can be considered good investments  in order to improve the quality level of the tough Neighborhoods of the city?"
        },
        {
            "cell_type": "markdown",
            "metadata": {},
            "source": "### Context \n  \n  **The public administration of the City of Chicago** (**the customer/stakeholder**) is going to build its plan for future development of the city.  \n  The view of administrators is the rebalancing of different areas of the city in terms of life quality and perception.  \n  A better Neighborhood doesn't mean a positive improve only of their habitants, but for all the city: young people, growing in a favorable environment, could be stimuled to gain a higher education and have a perspective for higher salaries and life quality/style, a redeveloped Neighborhood can attract more people and businesses, properties can rise their values, etc...and all these improvements can bring to higher taxes paid in return to the city, safer Neighborhood where the need of public intervent is reduced, etc.. (returns on investment).  \n    \nFor this reason the Pubblic Administration is willing to better understand how to use their budget and a Data Scientists team has been asked to analyze and suggest potential investements.\n  "
        },
        {
            "cell_type": "markdown",
            "metadata": {},
            "source": "### Identified business requirements\n  \nThe Data Scientists team has identified the following requirements:  \n  \n* Evaluating if venues or activities help in the redevelopment process of a tough Neighborhood or not\n* Evaluating which venue or activity categories should be stimulated by the mean of public investments\n* Deploying a priority chart for venue categories that improve a Neighborhood\n* Evaluating if maybe some venue category can have the opposite effect, i.e. they promote degradation of the Neighborhood "
        },
        {
            "cell_type": "markdown",
            "metadata": {},
            "source": "## 2. Data"
        },
        {
            "cell_type": "markdown",
            "metadata": {},
            "source": "In order to perform the analysis, Data Scientists team will use:  \n1. **Chicago socioeconomic dataset**  \n\n   This dataset is available from the website of the City of Chicago (https://data.cityofchicago.org/Health-Human-Services/Selected-socioeconomic-indicators-by-neighborhood/i9hv-en6g) and contains a selection of six socioeconomic indicators of public health significance and a **\u201chardship index\u201d** by Chicago community area. The indicators are:  \n    - the percent of occupied housing units with more than one person per room (i.e., crowded housing);  \n    - the percent of households living below the federal poverty level;  \n    - the percent of persons in the labor force over the age of 16 years that are unemployed;  \n    - the percent of persons over the age of 25 years without a high school diploma; the percent of the population under 18 or over 64 years of age (i.e., dependency);  \n    - and per capita income;  \n    - hardship index.  \n\n   Indicators for Chicago as a whole are provided in the final row of the table.  \n   \n\n2. **Chicago reported crimes dataset**  \n\n    This dataset (available at https://data.cityofchicago.org/Public-Safety/Crimes-2001-to-present/ijzp-q8t2) reflects reported incidents of crime (with the exception of murders where data exists for each victim) that occurred in the City of Chicago from 2001 to present and contains the following fields:\n    - ID: unique identifier for the record;\n    - Case Number: the Chicago Police Department RD Number (Records Division Number), which is unique to the incident;\n    - Date: date when the incident occurred. this is sometimes a best estimate;\n    - Block: the partially redacted address where the incident occurred, placing it on the same block as the actual address;\n    - IUCR: the Illinois Unifrom Crime Reporting code. This is directly linked to the Primary Type and Description;\n    - Description: the secondary description of the IUCR code, a subcategory of the primary description;\n    - Location Description: description of the location where the incident occurred;\n    - Arrest: indicates whether an arrest was made;\n    - Domestic: indicates whether the incident was domestic-related as defined by the Illinois Domestic Violence Act;\n    - Beat: indicates the beat where the incident occurred. A beat is the smallest police geographic area \u2013 each beat has a dedicated police beat car. Three to five beats make up a police sector, and three sectors make up a police district. The Chicago Police Department has 22 police districts. See the beats at https://data.cityofchicago.org/d/aerh-rz74;\n    - District: indicates the police district where the incident occurred. See the districts at https://data.cityofchicago.org/d/fthy-xz3r;\n    - Ward: the ward (City Council district) where the incident occurred. See the wards at https://data.cityofchicago.org/d/sp34-6z76;\n    - Community Area: indicates the community area where the incident occurred. Chicago has 77 community areas. See the community areas at https://data.cityofchicago.org/d/cauq-8yn6;\n    - FBI Code: indicates the crime classification as outlined in the FBI's National Incident-Based Reporting System (NIBRS). See the Chicago Police Department listing of these classifications at http://gis.chicagopolice.org/clearmap_crime_sums/crime_types.html;\n    - X Coordinate: the x coordinate of the location where the incident occurred in State Plane Illinois East NAD 1983 projection. This location is shifted from the actual location for partial redaction but falls on the same block;\n    - Y Coordinate: the y coordinate of the location where the incident occurred in State Plane Illinois East NAD 1983 projection. This location is shifted from the actual location for partial redaction but falls on the same block;\n    - Year: year the incident occurred;\n    - Updated On: date and time the record was last updated;\n    - Latitude: the latitude of the location where the incident occurred. This location is shifted from the actual location for partial redaction but falls on the same block;\n    - Longitude: the longitude of the location where the incident occurred. This location is shifted from the actual location for partial redaction but falls on the same block;\n    - Location: the location where the incident occurred in a format that allows for creation of maps and other geographic operations on this data portal. This location is shifted from the actual location for partial redaction but falls on the same block.  \n      \n    These two databases will be mainly used to cluster and label Chicago Neighborhoods considering their:  \n      - hardship index;\n      - crime frequency;\n      - degree of crime\n    \n    Furthermore, as Crime dataset includes reported crime since 2001 and is very big, it will be sliced in order to use only data referred to reported crimes since 2015.\n   \n\n3. **Foursquare venues and checkins API**  \n\n    The Team will use Foursquare API in order to discover venues in a specific Neighborhood or at a specific location. In addition checkins will be eventually used to analyze the popularity of specific venues."
        },
        {
            "cell_type": "markdown",
            "metadata": {},
            "source": "Let's give an overview of dataset structures"
        },
        {
            "cell_type": "code",
            "execution_count": 4,
            "metadata": {},
            "outputs": [
                {
                    "name": "stdout",
                    "output_type": "stream",
                    "text": "(78, 9)\n"
                },
                {
                    "data": {
                        "text/html": "<div>\n<style scoped>\n    .dataframe tbody tr th:only-of-type {\n        vertical-align: middle;\n    }\n\n    .dataframe tbody tr th {\n        vertical-align: top;\n    }\n\n    .dataframe thead th {\n        text-align: right;\n    }\n</style>\n<table border=\"1\" class=\"dataframe\">\n  <thead>\n    <tr style=\"text-align: right;\">\n      <th></th>\n      <th>Community Area Number</th>\n      <th>COMMUNITY AREA NAME</th>\n      <th>PERCENT OF HOUSING CROWDED</th>\n      <th>PERCENT HOUSEHOLDS BELOW POVERTY</th>\n      <th>PERCENT AGED 16+ UNEMPLOYED</th>\n      <th>PERCENT AGED 25+ WITHOUT HIGH SCHOOL DIPLOMA</th>\n      <th>PERCENT AGED UNDER 18 OR OVER 64</th>\n      <th>PER CAPITA INCOME</th>\n      <th>HARDSHIP INDEX</th>\n    </tr>\n  </thead>\n  <tbody>\n    <tr>\n      <th>0</th>\n      <td>1.0</td>\n      <td>Rogers Park</td>\n      <td>7.7</td>\n      <td>23.6</td>\n      <td>8.7</td>\n      <td>18.2</td>\n      <td>27.5</td>\n      <td>23939</td>\n      <td>39.0</td>\n    </tr>\n    <tr>\n      <th>1</th>\n      <td>2.0</td>\n      <td>West Ridge</td>\n      <td>7.8</td>\n      <td>17.2</td>\n      <td>8.8</td>\n      <td>20.8</td>\n      <td>38.5</td>\n      <td>23040</td>\n      <td>46.0</td>\n    </tr>\n    <tr>\n      <th>2</th>\n      <td>3.0</td>\n      <td>Uptown</td>\n      <td>3.8</td>\n      <td>24.0</td>\n      <td>8.9</td>\n      <td>11.8</td>\n      <td>22.2</td>\n      <td>35787</td>\n      <td>20.0</td>\n    </tr>\n    <tr>\n      <th>3</th>\n      <td>4.0</td>\n      <td>Lincoln Square</td>\n      <td>3.4</td>\n      <td>10.9</td>\n      <td>8.2</td>\n      <td>13.4</td>\n      <td>25.5</td>\n      <td>37524</td>\n      <td>17.0</td>\n    </tr>\n    <tr>\n      <th>4</th>\n      <td>5.0</td>\n      <td>North Center</td>\n      <td>0.3</td>\n      <td>7.5</td>\n      <td>5.2</td>\n      <td>4.5</td>\n      <td>26.2</td>\n      <td>57123</td>\n      <td>6.0</td>\n    </tr>\n  </tbody>\n</table>\n</div>",
                        "text/plain": "   Community Area Number COMMUNITY AREA NAME  PERCENT OF HOUSING CROWDED  \\\n0                    1.0         Rogers Park                         7.7   \n1                    2.0          West Ridge                         7.8   \n2                    3.0              Uptown                         3.8   \n3                    4.0      Lincoln Square                         3.4   \n4                    5.0        North Center                         0.3   \n\n   PERCENT HOUSEHOLDS BELOW POVERTY  PERCENT AGED 16+ UNEMPLOYED  \\\n0                              23.6                          8.7   \n1                              17.2                          8.8   \n2                              24.0                          8.9   \n3                              10.9                          8.2   \n4                               7.5                          5.2   \n\n   PERCENT AGED 25+ WITHOUT HIGH SCHOOL DIPLOMA  \\\n0                                          18.2   \n1                                          20.8   \n2                                          11.8   \n3                                          13.4   \n4                                           4.5   \n\n   PERCENT AGED UNDER 18 OR OVER 64  PER CAPITA INCOME   HARDSHIP INDEX  \n0                              27.5               23939            39.0  \n1                              38.5               23040            46.0  \n2                              22.2               35787            20.0  \n3                              25.5               37524            17.0  \n4                              26.2               57123             6.0  "
                    },
                    "execution_count": 4,
                    "metadata": {},
                    "output_type": "execute_result"
                }
            ],
            "source": "def __iter__(self): return 0\n\nbody = client_de7790dfb63141b0ae0ffdfc73f2f446.get_object(Bucket='courseracapstone-donotdelete-pr-cvzsktymx4cuiu',Key='Census_Data_-_Selected_socioeconomic_indicators_in_Chicago__2008___2012.csv')['Body']\n# add missing __iter__ method, so pandas accepts body as file-like object\nif not hasattr(body, \"__iter__\"): body.__iter__ = types.MethodType( __iter__, body )\n\n# If you are reading an Excel file into a pandas DataFrame, replace `read_csv` by `read_excel` in the next statement.\ndfSE = pd.read_csv(body)\n\nprint(dfSE.shape)\ndfSE.head()\n"
        },
        {
            "cell_type": "code",
            "execution_count": 5,
            "metadata": {},
            "outputs": [
                {
                    "name": "stderr",
                    "output_type": "stream",
                    "text": "/opt/conda/envs/Python36/lib/python3.6/site-packages/IPython/core/interactiveshell.py:3020: DtypeWarning: Columns (21) have mixed types. Specify dtype option on import or set low_memory=False.\n  interactivity=interactivity, compiler=compiler, result=result)\n"
                },
                {
                    "name": "stdout",
                    "output_type": "stream",
                    "text": "(7130308, 22)\n"
                },
                {
                    "data": {
                        "text/html": "<div>\n<style scoped>\n    .dataframe tbody tr th:only-of-type {\n        vertical-align: middle;\n    }\n\n    .dataframe tbody tr th {\n        vertical-align: top;\n    }\n\n    .dataframe thead th {\n        text-align: right;\n    }\n</style>\n<table border=\"1\" class=\"dataframe\">\n  <thead>\n    <tr style=\"text-align: right;\">\n      <th></th>\n      <th>ID</th>\n      <th>Case Number</th>\n      <th>Date</th>\n      <th>Block</th>\n      <th>IUCR</th>\n      <th>Primary Type</th>\n      <th>Description</th>\n      <th>Location Description</th>\n      <th>Arrest</th>\n      <th>Domestic</th>\n      <th>...</th>\n      <th>Ward</th>\n      <th>Community Area</th>\n      <th>FBI Code</th>\n      <th>X Coordinate</th>\n      <th>Y Coordinate</th>\n      <th>Year</th>\n      <th>Updated On</th>\n      <th>Latitude</th>\n      <th>Longitude</th>\n      <th>Location</th>\n    </tr>\n  </thead>\n  <tbody>\n    <tr>\n      <th>0</th>\n      <td>11034701</td>\n      <td>JA366925</td>\n      <td>01/01/2001 11:00:00 AM</td>\n      <td>016XX E 86TH PL</td>\n      <td>1153</td>\n      <td>DECEPTIVE PRACTICE</td>\n      <td>FINANCIAL IDENTITY THEFT OVER $ 300</td>\n      <td>RESIDENCE</td>\n      <td>False</td>\n      <td>False</td>\n      <td>...</td>\n      <td>8.0</td>\n      <td>45.0</td>\n      <td>11</td>\n      <td>NaN</td>\n      <td>NaN</td>\n      <td>2001</td>\n      <td>08/05/2017 03:50:08 PM</td>\n      <td>NaN</td>\n      <td>NaN</td>\n      <td>NaN</td>\n    </tr>\n    <tr>\n      <th>1</th>\n      <td>11227287</td>\n      <td>JB147188</td>\n      <td>10/08/2017 03:00:00 AM</td>\n      <td>092XX S RACINE AVE</td>\n      <td>0281</td>\n      <td>CRIM SEXUAL ASSAULT</td>\n      <td>NON-AGGRAVATED</td>\n      <td>RESIDENCE</td>\n      <td>False</td>\n      <td>False</td>\n      <td>...</td>\n      <td>21.0</td>\n      <td>73.0</td>\n      <td>02</td>\n      <td>NaN</td>\n      <td>NaN</td>\n      <td>2017</td>\n      <td>02/11/2018 03:57:41 PM</td>\n      <td>NaN</td>\n      <td>NaN</td>\n      <td>NaN</td>\n    </tr>\n    <tr>\n      <th>2</th>\n      <td>11227583</td>\n      <td>JB147595</td>\n      <td>03/28/2017 02:00:00 PM</td>\n      <td>026XX W 79TH ST</td>\n      <td>0620</td>\n      <td>BURGLARY</td>\n      <td>UNLAWFUL ENTRY</td>\n      <td>OTHER</td>\n      <td>False</td>\n      <td>False</td>\n      <td>...</td>\n      <td>18.0</td>\n      <td>70.0</td>\n      <td>05</td>\n      <td>NaN</td>\n      <td>NaN</td>\n      <td>2017</td>\n      <td>02/11/2018 03:57:41 PM</td>\n      <td>NaN</td>\n      <td>NaN</td>\n      <td>NaN</td>\n    </tr>\n    <tr>\n      <th>3</th>\n      <td>11227293</td>\n      <td>JB147230</td>\n      <td>09/09/2017 08:17:00 PM</td>\n      <td>060XX S EBERHART AVE</td>\n      <td>0810</td>\n      <td>THEFT</td>\n      <td>OVER $500</td>\n      <td>RESIDENCE</td>\n      <td>False</td>\n      <td>False</td>\n      <td>...</td>\n      <td>20.0</td>\n      <td>42.0</td>\n      <td>06</td>\n      <td>NaN</td>\n      <td>NaN</td>\n      <td>2017</td>\n      <td>02/11/2018 03:57:41 PM</td>\n      <td>NaN</td>\n      <td>NaN</td>\n      <td>NaN</td>\n    </tr>\n    <tr>\n      <th>4</th>\n      <td>11227634</td>\n      <td>JB147599</td>\n      <td>08/26/2017 10:00:00 AM</td>\n      <td>001XX W RANDOLPH ST</td>\n      <td>0281</td>\n      <td>CRIM SEXUAL ASSAULT</td>\n      <td>NON-AGGRAVATED</td>\n      <td>HOTEL/MOTEL</td>\n      <td>False</td>\n      <td>False</td>\n      <td>...</td>\n      <td>42.0</td>\n      <td>32.0</td>\n      <td>02</td>\n      <td>NaN</td>\n      <td>NaN</td>\n      <td>2017</td>\n      <td>02/11/2018 03:57:41 PM</td>\n      <td>NaN</td>\n      <td>NaN</td>\n      <td>NaN</td>\n    </tr>\n  </tbody>\n</table>\n<p>5 rows \u00d7 22 columns</p>\n</div>",
                        "text/plain": "         ID Case Number                    Date                 Block  IUCR  \\\n0  11034701    JA366925  01/01/2001 11:00:00 AM       016XX E 86TH PL  1153   \n1  11227287    JB147188  10/08/2017 03:00:00 AM    092XX S RACINE AVE  0281   \n2  11227583    JB147595  03/28/2017 02:00:00 PM       026XX W 79TH ST  0620   \n3  11227293    JB147230  09/09/2017 08:17:00 PM  060XX S EBERHART AVE  0810   \n4  11227634    JB147599  08/26/2017 10:00:00 AM   001XX W RANDOLPH ST  0281   \n\n          Primary Type                          Description  \\\n0   DECEPTIVE PRACTICE  FINANCIAL IDENTITY THEFT OVER $ 300   \n1  CRIM SEXUAL ASSAULT                       NON-AGGRAVATED   \n2             BURGLARY                       UNLAWFUL ENTRY   \n3                THEFT                            OVER $500   \n4  CRIM SEXUAL ASSAULT                       NON-AGGRAVATED   \n\n  Location Description  Arrest  Domestic  ...  Ward  Community Area  FBI Code  \\\n0            RESIDENCE   False     False  ...   8.0            45.0        11   \n1            RESIDENCE   False     False  ...  21.0            73.0        02   \n2                OTHER   False     False  ...  18.0            70.0        05   \n3            RESIDENCE   False     False  ...  20.0            42.0        06   \n4          HOTEL/MOTEL   False     False  ...  42.0            32.0        02   \n\n   X Coordinate Y Coordinate  Year              Updated On  Latitude  \\\n0           NaN          NaN  2001  08/05/2017 03:50:08 PM       NaN   \n1           NaN          NaN  2017  02/11/2018 03:57:41 PM       NaN   \n2           NaN          NaN  2017  02/11/2018 03:57:41 PM       NaN   \n3           NaN          NaN  2017  02/11/2018 03:57:41 PM       NaN   \n4           NaN          NaN  2017  02/11/2018 03:57:41 PM       NaN   \n\n  Longitude  Location  \n0       NaN       NaN  \n1       NaN       NaN  \n2       NaN       NaN  \n3       NaN       NaN  \n4       NaN       NaN  \n\n[5 rows x 22 columns]"
                    },
                    "execution_count": 5,
                    "metadata": {},
                    "output_type": "execute_result"
                }
            ],
            "source": "\nbody = client_de7790dfb63141b0ae0ffdfc73f2f446.get_object(Bucket='courseracapstone-donotdelete-pr-cvzsktymx4cuiu',Key='Crimes_-_2001_to_present.csv')['Body']\n# add missing __iter__ method, so pandas accepts body as file-like object\nif not hasattr(body, \"__iter__\"): body.__iter__ = types.MethodType( __iter__, body )\n\n# If you are reading an Excel file into a pandas DataFrame, replace `read_csv` by `read_excel` in the next statement.\ndfCrimes = pd.read_csv(body)\n\nprint(dfCrimes.shape)\ndfCrimes.head()\n"
        },
        {
            "cell_type": "markdown",
            "metadata": {},
            "source": "### end of 4th week Final Assignment"
        },
        {
            "cell_type": "code",
            "execution_count": null,
            "metadata": {},
            "outputs": [],
            "source": ""
        }
    ],
    "metadata": {
        "kernelspec": {
            "display_name": "Python 3.6",
            "language": "python",
            "name": "python3"
        },
        "language_info": {
            "codemirror_mode": {
                "name": "ipython",
                "version": 3
            },
            "file_extension": ".py",
            "mimetype": "text/x-python",
            "name": "python",
            "nbconvert_exporter": "python",
            "pygments_lexer": "ipython3",
            "version": "3.6.9"
        }
    },
    "nbformat": 4,
    "nbformat_minor": 4
}